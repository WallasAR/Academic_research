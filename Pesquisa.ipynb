{
 "cells": [
  {
   "cell_type": "markdown",
   "metadata": {},
   "source": [
    "# **Agricultura e Agroindústria: Maximizando Recursos e Estratégias**"
   ]
  },
  {
   "cell_type": "markdown",
   "metadata": {},
   "source": [
    "## 1. Introdução"
   ]
  },
  {
   "cell_type": "markdown",
   "metadata": {},
   "source": [
    "### 1.1. Contextualização"
   ]
  },
  {
   "cell_type": "markdown",
   "metadata": {},
   "source": [
    "A indústria agrícola e agroindustrial tem passado por transformações significativas devido à necessidade de otimização de recursos e maximização da produção. Com o avanço da tecnologia e a disponibilidade de grandes conjuntos de dados, surge a oportunidade de utilizar métodos de KDD para descobrir padrões e insights cruciais para a tomada de decisões estratégicas."
   ]
  },
  {
   "cell_type": "markdown",
   "metadata": {},
   "source": [
    "### 1.2. Objetivo"
   ]
  },
  {
   "cell_type": "markdown",
   "metadata": {},
   "source": [
    "O objetivo principal da pesquisa se apoia no método KDD (_Knowledge Discovery in Databases_) para analisar dados relacionados à produção agroindustrial. Ao realizar tal ato, buscamos:\n",
    "\n",
    "- Identificar deficiências de produção em diferentes produtos agrícolas;\n",
    "\n",
    "- Desenvolver modelos de previsão de safras baseados em dados históricos;\n",
    "\n",
    "- Buscar oportunidades de mercado, como demandas crescentes por certos produtos;\n",
    "\n",
    "- Estimar a demanda futura com base em tendências de mercado e sazonalidade, auxiliando no planejamento de produção e distribuição;\n"
   ]
  },
  {
   "cell_type": "markdown",
   "metadata": {},
   "source": [
    "### 1.3. Metodologia"
   ]
  },
  {
   "cell_type": "markdown",
   "metadata": {},
   "source": [
    "Como mensionado na sessão [Objetivo](#objetivo), a utilização do método KDD será crucial para o desenvolvimento organizado e estruturado da pesquisa. O termo KDD foi formalizado em 1989 em referência ao amplo conceito de procurar conhecimento a partir de bases de dados. Segundo pesquisadores: \n",
    ">“KDD é um processo, de várias etapas, não trivial, interativo e iterativo, para identificação de padrões compreensíveis, válidos, novos e potencialmente úteis a partir de grandes conjuntos de dados”. (Fayyad et al.,\n",
    "1996a)\n",
    "\n",
    "A Descoberta de Conhecimento em Bases de Dados é caracterizada como\n",
    "um processo composto por várias etapas operacionais:  \n",
    "A etapa de Pré-processamento, Mineração de Dados e o Pós-processamento.  \n",
    "\n",
    "Além do método, utilizaremos a linguagem de programação python e suas seguintes bibliotecas: Pandas para a manipulação dos dados e Matplotlib para uma visualização simples e objetiva por meio de graficos e tabelas. \n",
    "\n",
    "Bases de dados utilizadas:\n",
    "  - IBGE -> SIDRA - [PAM (Produção Agrícola Municipal)](https://sidra.ibge.gov.br/pesquisa/pam/tabelas)   "
   ]
  },
  {
   "cell_type": "markdown",
   "metadata": {},
   "source": [
    "## 2. Etapas operacionais"
   ]
  },
  {
   "cell_type": "markdown",
   "metadata": {},
   "source": [
    "### 2.1. Pré-processamento"
   ]
  },
  {
   "cell_type": "markdown",
   "metadata": {},
   "source": [
    "A etapa de Pré-processamento compreende todas as funções relacionadas à captação, à organização e ao tratamento dos dados. Essa etapa tem como objetivo a preparação dos dados para os algoritmos da etapa da Mineração de Dados.  "
   ]
  },
  {
   "cell_type": "markdown",
   "metadata": {},
   "source": [
    "Para começarmos o tratamento dos dados, é importante primeiro importar as bibliotecas que serão utilizadas."
   ]
  },
  {
   "cell_type": "code",
   "execution_count": 11,
   "metadata": {},
   "outputs": [],
   "source": [
    "import pandas as pd\n",
    "import matplotlib.pyplot as plt\n",
    "import seaborn as sns\n",
    "import dash\n",
    "from dash import dcc, html, Input, Output\n",
    "import plotly.express as px\n",
    "from IPython.display import Image as IPImage, display\n",
    "%matplotlib inline"
   ]
  },
  {
   "cell_type": "markdown",
   "metadata": {},
   "source": [
    "Aqui vamos carregar os dados sobre os produtos de origem vegetal"
   ]
  },
  {
   "cell_type": "code",
   "execution_count": 12,
   "metadata": {},
   "outputs": [
    {
     "name": "stdout",
     "output_type": "stream",
     "text": [
      "Dados de Produção Vegetal\n",
      "                       Produtos   Quantidade\n",
      "0  Algodão Herbáceo (em caroço)    6.422.030\n",
      "1              Arroz (em casca)   10.776.268\n",
      "2                Café (em grão)    3.172.562\n",
      "3              Feijão (em grão)    2.842.395\n",
      "4                       Laranja   16.929.631\n",
      "5                      Mandioca   17.648.564\n",
      "6               Milho (em grão)  109.420.717\n",
      "7                Soja (em grão)  120.701.031\n",
      "8               Trigo (em grão)   10.343.182\n",
      "\n",
      "                       Produtos   Quantidade\n",
      "0  Algodão Herbáceo (em caroço)    5.711.692\n",
      "1              Arroz (em casca)   11.660.605\n",
      "2                Café (em grão)    2.985.581\n",
      "3              Feijão (em grão)   2.900.805.\n",
      "4                       Laranja   16.217.839\n",
      "5                      Mandioca   18.220.656\n",
      "6               Milho (em grão)   88.272.116\n",
      "7                Soja (em grão)  134.799.179\n",
      "8               Trigo (em grão)    7.878.413\n",
      "\n",
      "                       Produtos   Quantidade\n",
      "0  Algodão Herbáceo (em caroço)    7.070.136\n",
      "1              Arroz (em casca)   11.091.011\n",
      "2                Café (em grão)    3.705.719\n",
      "3              Feijão (em grão)    3.036.254\n",
      "4                       Laranja   16.721.556\n",
      "5                      Mandioca   18.197.572\n",
      "6               Milho (em grão)  103.990.935\n",
      "7                Soja (em grão)  121.820.949\n",
      "8               Trigo (em grão)    6.344.079\n",
      "\n"
     ]
    }
   ],
   "source": [
    "base_dados = ['Base De Dados/Produtos de Origem Vegetal/Quantidade Produzida_2022.xlsx',\n",
    "              'Base De Dados/Produtos de Origem Vegetal/Quantidade Produzida_2021.xlsx',\n",
    "              'Base De Dados/Produtos de Origem Vegetal/Quantidade Produzida_2020.xlsx']\n",
    "\n",
    "print('Dados de Produção Vegetal')\n",
    "\n",
    "for arquivo in base_dados:\n",
    "    df = pd.read_excel(arquivo)\n",
    "    print(df)\n",
    "    print()"
   ]
  },
  {
   "cell_type": "markdown",
   "metadata": {},
   "source": [
    "Aqui vamos carregar os dados sobre os produtos de origem animal"
   ]
  },
  {
   "cell_type": "code",
   "execution_count": 13,
   "metadata": {},
   "outputs": [
    {
     "name": "stdout",
     "output_type": "stream",
     "text": [
      "Dados de Produção Animal\n",
      "                   Produtos  Quantidade\n",
      "0                     Leite  35.183.066\n",
      "1           Ovos de Galinha   4.821.802\n",
      "2           Ovos de Codorna     272.213\n",
      "3             Mel de Abelha  55.678.534\n",
      "4  Casulos do bicho-da-seda   2.211.145\n",
      "5                        Lã   8.298.591\n",
      "\n",
      "                   Produtos  Quantidade\n",
      "0                     Leite  34.609.218\n",
      "1           Ovos de Galinha   4.886.564\n",
      "2           Ovos de Codorna     229.194\n",
      "3             Mel de Abelha  60.966.305\n",
      "4  Casulos do bicho-da-seda   1.806.675\n",
      "5                        Lã   8.884.395\n",
      "\n",
      "                   Produtos  Quantidade\n",
      "0                     Leite  35.316.667\n",
      "1           Ovos de Galinha   4.767.022\n",
      "2           Ovos de Codorna      293.48\n",
      "3             Mel de Abelha  52.493.135\n",
      "4  Casulos do bicho-da-seda   2.742.372\n",
      "5                        Lã   7.983.862\n",
      "\n"
     ]
    }
   ],
   "source": [
    "base_animal = {\n",
    "    'Base De Dados/Produtos de Origem Animal/Quantidade Produzida_2022.xlsx',\n",
    "    'Base De Dados/Produtos de Origem Animal/Quantidade Produzida_2021.xlsx',\n",
    "    'Base De Dados/Produtos de Origem Animal/Quantidade Produzida_2020.xlsx'\n",
    "    }\n",
    "\n",
    "\n",
    "print('Dados de Produção Animal')\n",
    "\n",
    "for arquivo in base_animal:\n",
    "    df_animal = pd.read_excel(arquivo)\n",
    "    print(df_animal)\n",
    "    print()"
   ]
  },
  {
   "cell_type": "markdown",
   "metadata": {},
   "source": [
    "Com base nos dados carregadas podemos começar a trabalhar na mineração e analise de forma visual, gerando os graficos em cima dos dados. "
   ]
  },
  {
   "cell_type": "markdown",
   "metadata": {},
   "source": [
    "### 2.2. Mineração de dados"
   ]
  },
  {
   "cell_type": "markdown",
   "metadata": {},
   "source": [
    "Durante a etapa de Mineração de Dados é realizada a busca efetiva por conhecimentos úteis no contexto da aplicação de KDD. É a principal etapa do processo de KDD. Envolve a aplicação de algoritmos sobre os dados em busca de conhecimento implícitos e úteis."
   ]
  },
  {
   "cell_type": "markdown",
   "metadata": {},
   "source": [
    "É relevante notar que nossa abordagem não incluirá técnicas de Inteligência Artificial, como _Lógica Nebulosa (Fuzzy Logic), Algoritmos Genéticos (AG), redes neurais_, entre outras metodologias mencionadas na literatura utilizada como referência. Nossas análises serão estritamente baseadas em lógica, visando precisão e fornecimento de resultados pertinentes."
   ]
  },
  {
   "cell_type": "markdown",
   "metadata": {},
   "source": [
    "##### 2.2.1. Identificar deficiências de produção em diferentes produtos agrícolas;"
   ]
  },
  {
   "cell_type": "markdown",
   "metadata": {},
   "source": [
    "Para iniciar, utilizamos o banco de dados do IBGE e o Power BI como ferramentas para análise de dados, criando gráficos e tratando tabelas. Em seguida, procedemos à análise dos dados, visualizando a deficiência na produção agrícola em cada um dos estados"
   ]
  },
  {
   "cell_type": "code",
   "execution_count": 14,
   "metadata": {},
   "outputs": [
    {
     "data": {
      "image/png": "[encoded data removed]",
      "text/plain": [
       "<IPython.core.display.Image object>"
      ]
     },
     "metadata": {},
     "output_type": "display_data"
    }
   ],
   "source": [
    "display(IPImage(filename='Base De Dados/Produção.png'))"
   ]
  },
  {
   "cell_type": "markdown",
   "metadata": {},
   "source": [
    "\n",
    "##### 2.2.2. Buscar oportunidades de mercado, como demandas crescentes por certos produtos;"
   ]
  },
  {
   "cell_type": "code",
   "execution_count": 15,
   "metadata": {},
   "outputs": [
    {
     "data": {
      "text/html": [
       "\n",
       "        <iframe\n",
       "            width=\"100%\"\n",
       "            height=\"650\"\n",
       "            src=\"http://127.0.0.1:8051/\"\n",
       "            frameborder=\"0\"\n",
       "            allowfullscreen\n",
       "            \n",
       "        ></iframe>\n",
       "        "
      ],
      "text/plain": [
       "<IPython.lib.display.IFrame at 0x1f894716a10>"
      ]
     },
     "metadata": {},
     "output_type": "display_data"
    }
   ],
   "source": [
    "base_dados = {\n",
    "    'Grafico de 2022': 'Base De Dados/Produtos de Origem Vegetal/Quantidade Produzida_2022.xlsx',\n",
    "    'Grafico de 2021': 'Base De Dados/Produtos de Origem Vegetal/Quantidade Produzida_2021.xlsx',\n",
    "    'Grafico de 2020': 'Base De Dados/Produtos de Origem Vegetal/Quantidade Produzida_2020.xlsx'\n",
    "}\n",
    "\n",
    "def load_data(file_path):\n",
    "    df = pd.read_excel(file_path)\n",
    "    df['Quantidade'] = df['Quantidade'].str.replace('.', '').astype(float)\n",
    "    return df\n",
    "\n",
    "\n",
    "app = dash.Dash(__name__)\n",
    "\n",
    "app.layout = html.Div([\n",
    "    html.H1('Produção de Produtos'),\n",
    "    dcc.Dropdown(\n",
    "        id='dropdown',\n",
    "        options=[{'label': key, 'value': value} for key, value in base_dados.items()],\n",
    "        value=list(base_dados.values())[0]\n",
    "    ),\n",
    "    dcc.Graph(id='pie-chart')\n",
    "])\n",
    "\n",
    "@app.callback(\n",
    "    Output('pie-chart', 'figure'),\n",
    "    [Input('dropdown', 'value')]\n",
    ")\n",
    "def update_pie_chart(file_path):\n",
    "    df = load_data(file_path)\n",
    "    fig = px.pie(df, values='Quantidade', names='Produtos', title='Produção de Produtos Vegetal')\n",
    "    return fig\n",
    "\n",
    "if __name__ == '__main__':\n",
    "    app.run_server(debug=True, port=8051)"
   ]
  },
  {
   "cell_type": "markdown",
   "metadata": {},
   "source": [
    "Com base no gráfico mostrado, podemos observar uma grande demanda por produtos como soja e milho, resultando em um consequente crescimento na sua produção. Essa demanda crescente abre várias portas de oportunidades tanto no mercado interno quanto no externo.\n",
    "\n",
    "No caso da soja, temos produtos derivados como óleo de soja e carne, enquanto o milho é fundamental na produção de ração animal e biocombustível. Além disso, há um potencial significativo para investimentos em tecnologias que possam aumentar a eficiência e sustentabilidade das lavouras."
   ]
  },
  {
   "cell_type": "markdown",
   "metadata": {},
   "source": [
    "Com base nos dados obtidos podemos observar um \n"
   ]
  },
  {
   "cell_type": "code",
   "execution_count": 16,
   "metadata": {},
   "outputs": [
    {
     "data": {
      "text/html": [
       "\n",
       "        <iframe\n",
       "            width=\"100%\"\n",
       "            height=\"650\"\n",
       "            src=\"http://127.0.0.1:8052/\"\n",
       "            frameborder=\"0\"\n",
       "            allowfullscreen\n",
       "            \n",
       "        ></iframe>\n",
       "        "
      ],
      "text/plain": [
       "<IPython.lib.display.IFrame at 0x1f89427cbd0>"
      ]
     },
     "metadata": {},
     "output_type": "display_data"
    }
   ],
   "source": [
    "base_animal = {\n",
    "    'Grafico de 2022': 'Base De Dados/Produtos de Origem Animal/Quantidade Produzida_2022.xlsx',\n",
    "    'Grafico de 2021': 'Base De Dados/Produtos de Origem Animal/Quantidade Produzida_2021.xlsx',\n",
    "    'Grafico de 2020': 'Base De Dados/Produtos de Origem Animal/Quantidade Produzida_2020.xlsx'\n",
    "}\n",
    "\n",
    "def load_data(file_path):\n",
    "    df_animal = pd.read_excel(file_path)\n",
    "    df_animal['Quantidade'] = df_animal['Quantidade'].str.replace('.', '').astype(float)\n",
    "    return df_animal\n",
    "\n",
    "\n",
    "app = dash.Dash(__name__)\n",
    "\n",
    "app.layout = html.Div([\n",
    "    html.H1('Produção de Produtos'),\n",
    "    dcc.Dropdown(\n",
    "        id='dropdown',\n",
    "        options=[{'label': key, 'value': value} for key, value in base_animal.items()],\n",
    "        value=list(base_animal.values())[0]\n",
    "    ),\n",
    "    dcc.Graph(id='bar-chart')\n",
    "])\n",
    "\n",
    "@app.callback(\n",
    "    Output('bar-chart', 'figure'),\n",
    "    [Input('dropdown', 'value')]\n",
    ")\n",
    "def update_bar_chart(file_path):\n",
    "    df_animal = load_data(file_path)\n",
    "    fig_animal = px.bar(df_animal, x='Produtos', y='Quantidade', color='Produtos', title='Produção de Produtos Animal')\n",
    "    return fig_animal\n",
    "\n",
    "if __name__ == '__main__':\n",
    "    app.run_server(debug=True, port=8052)"
   ]
  },
  {
   "cell_type": "markdown",
   "metadata": {},
   "source": [
    "\n",
    "Leite, ovos de galinha e mel possuem uma demanda muito grande devido aos seus diversos ramos de produção. O leite, por exemplo, é a base para produtos como queijos, iogurtes e manteiga. O mel de abelha é altamente valorizado em produtos naturais e orgânicos, além de subprodutos como própolis e cera de abelha, que têm aplicações na indústria farmacêutica e cosmética. Os ovos de galinha são consumidos diariamente e utilizados como ingrediente em muitos outros produtos. Esse crescimento na produção desses itens é impulsionado pelas oportunidades de venda e pela eficiência. "
   ]
  },
  {
   "cell_type": "markdown",
   "metadata": {},
   "source": [
    "##### 2.2.3. Desenvolver modelos de previsão de safras baseados em dados históricos;\n"
   ]
  },
  {
   "cell_type": "markdown",
   "metadata": {},
   "source": [
    "Desenvolver sessão aqui!"
   ]
  },
  {
   "cell_type": "markdown",
   "metadata": {},
   "source": [
    "##### 2.2.4. Estimar a demanda futura com base em tendências de mercado e sazonalidade, auxiliando no planejamento de produção e distribuição;"
   ]
  },
  {
   "cell_type": "markdown",
   "metadata": {},
   "source": [
    "Para darmos inicio, utilizaremos o dataframe da variável `Prod` criada e tratada na sessão de [Pré-processamento](#21-pré-processamento). Podemos analisar a quantidade produzida entre 2020 a 2022 de diversos produtos listados na base de dados."
   ]
  },
  {
   "cell_type": "markdown",
   "metadata": {},
   "source": [
    "### 2.3. Pós-processamento"
   ]
  }
 ],
 "metadata": {
  "kernelspec": {
   "display_name": "Python 3",
   "language": "python",
   "name": "python3"
  },
  "language_info": {
   "codemirror_mode": {
    "name": "ipython",
    "version": 3
   },
   "file_extension": ".py",
   "mimetype": "text/x-python",
   "name": "python",
   "nbconvert_exporter": "python",
   "pygments_lexer": "ipython3",
   "version": "3.11.9"
  }
 },
 "nbformat": 4,
 "nbformat_minor": 2
}
